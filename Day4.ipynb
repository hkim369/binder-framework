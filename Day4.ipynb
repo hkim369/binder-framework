{
 "cells": [
  {
   "cell_type": "markdown",
   "id": "ec7322ca-0db5-444c-965b-582048259626",
   "metadata": {},
   "source": [
    "1. How many different companies are represented in the data set?\n",
    "2. What is the total number of jobs created for businesses in Queens?\n",
    "3. How many different unique email domains names are there in the data set?\n",
    "4. Considering only NTAs with at least 5 listed businesses, what is the average total savings and the total jobs created for each NTA?\n",
    "5. Save your result for the previous question as a CSV file."
   ]
  },
  {
   "cell_type": "code",
   "execution_count": 1,
   "id": "74e95749-14a4-4927-9005-db3c55b26a05",
   "metadata": {},
   "outputs": [
    {
     "data": {
      "text/plain": [
       "(450, 26)"
      ]
     },
     "execution_count": 1,
     "metadata": {},
     "output_type": "execute_result"
    }
   ],
   "source": [
    "import pandas as pd\n",
    "\n",
    "df = pd.read_csv(\"Value_of_Energy_Cost_Savings_Program_Savings_for_Businesses_-_FY2020.csv\")\n",
    "df.shape\n"
   ]
  },
  {
   "cell_type": "code",
   "execution_count": 13,
   "id": "39e6a6cf-cc8c-4b84-beef-17c9b9cd3ad1",
   "metadata": {},
   "outputs": [
    {
     "name": "stdout",
     "output_type": "stream",
     "text": [
      "The number of companies:  439\n"
     ]
    }
   ],
   "source": [
    "# Q1\n",
    "Num_of_companies = len(df['Company Name'].unique())\n",
    "print(\"The number of companies: \", Num_of_companies)"
   ]
  },
  {
   "cell_type": "code",
   "execution_count": 17,
   "id": "4d3798b1-b958-495b-b005-d1b2e7a656a5",
   "metadata": {},
   "outputs": [
    {
     "name": "stdout",
     "output_type": "stream",
     "text": [
      "The total jobs created in Queens:  90\n"
     ]
    }
   ],
   "source": [
    "# Q2\n",
    "Job_created_Queens = df[df.City == 'Queens']['Job created'].sum()\n",
    "print(\"The total jobs created in Queens: \", int(Job_created_Queens))"
   ]
  },
  {
   "cell_type": "code",
   "execution_count": 18,
   "id": "5b2cee48-ef68-4675-8c18-3cc5bf11d3cc",
   "metadata": {},
   "outputs": [
    {
     "name": "stdout",
     "output_type": "stream",
     "text": [
      "The number of uniqiue email domains:  357\n"
     ]
    }
   ],
   "source": [
    "# Q3\n",
    "Num_of_domains = len(df['company email'].dropna().str.split('@').str[1].unique())\n",
    "print(\"The number of uniqiue email domains: \", Num_of_domains)"
   ]
  },
  {
   "cell_type": "code",
   "execution_count": 19,
   "id": "ac392274-05cb-4087-90f2-f297c5175b18",
   "metadata": {},
   "outputs": [
    {
     "name": "stdout",
     "output_type": "stream",
     "text": [
      "The average total savings and the total jobs created\n"
     ]
    },
    {
     "data": {
      "text/html": [
       "<div>\n",
       "<style scoped>\n",
       "    .dataframe tbody tr th:only-of-type {\n",
       "        vertical-align: middle;\n",
       "    }\n",
       "\n",
       "    .dataframe tbody tr th {\n",
       "        vertical-align: top;\n",
       "    }\n",
       "\n",
       "    .dataframe thead th {\n",
       "        text-align: right;\n",
       "    }\n",
       "</style>\n",
       "<table border=\"1\" class=\"dataframe\">\n",
       "  <thead>\n",
       "    <tr style=\"text-align: right;\">\n",
       "      <th></th>\n",
       "      <th>Average Total Savings</th>\n",
       "      <th>Total Job Created</th>\n",
       "    </tr>\n",
       "    <tr>\n",
       "      <th>NTA</th>\n",
       "      <th></th>\n",
       "      <th></th>\n",
       "    </tr>\n",
       "  </thead>\n",
       "  <tbody>\n",
       "    <tr>\n",
       "      <th>Battery Park City-Lower Manhattan</th>\n",
       "      <td>469890.796667</td>\n",
       "      <td>0.0</td>\n",
       "    </tr>\n",
       "    <tr>\n",
       "      <th>Bushwick South</th>\n",
       "      <td>26140.455000</td>\n",
       "      <td>10.0</td>\n",
       "    </tr>\n",
       "    <tr>\n",
       "      <th>Carroll Gardens-Columbia Street-Red Hook</th>\n",
       "      <td>24337.390000</td>\n",
       "      <td>0.0</td>\n",
       "    </tr>\n",
       "    <tr>\n",
       "      <th>College Point</th>\n",
       "      <td>17159.372857</td>\n",
       "      <td>2.0</td>\n",
       "    </tr>\n",
       "    <tr>\n",
       "      <th>Crown Heights North</th>\n",
       "      <td>4036.298889</td>\n",
       "      <td>0.0</td>\n",
       "    </tr>\n",
       "    <tr>\n",
       "      <th>DUMBO-Vinegar Hill-Downtown Brooklyn-Boerum Hill</th>\n",
       "      <td>59950.340000</td>\n",
       "      <td>0.0</td>\n",
       "    </tr>\n",
       "    <tr>\n",
       "      <th>East New York</th>\n",
       "      <td>48433.093333</td>\n",
       "      <td>15.0</td>\n",
       "    </tr>\n",
       "    <tr>\n",
       "      <th>East Williamsburg</th>\n",
       "      <td>13990.626364</td>\n",
       "      <td>0.0</td>\n",
       "    </tr>\n",
       "    <tr>\n",
       "      <th>Greenpoint</th>\n",
       "      <td>9753.649286</td>\n",
       "      <td>0.0</td>\n",
       "    </tr>\n",
       "    <tr>\n",
       "      <th>Hunters Point-Sunnyside-West Maspeth</th>\n",
       "      <td>23931.398933</td>\n",
       "      <td>0.0</td>\n",
       "    </tr>\n",
       "    <tr>\n",
       "      <th>Hunts Point</th>\n",
       "      <td>39246.016154</td>\n",
       "      <td>12.0</td>\n",
       "    </tr>\n",
       "    <tr>\n",
       "      <th>Manhattanville</th>\n",
       "      <td>2760.888889</td>\n",
       "      <td>0.0</td>\n",
       "    </tr>\n",
       "    <tr>\n",
       "      <th>Maspeth</th>\n",
       "      <td>6658.283333</td>\n",
       "      <td>10.0</td>\n",
       "    </tr>\n",
       "    <tr>\n",
       "      <th>Mott Haven-Port Morris</th>\n",
       "      <td>17843.937857</td>\n",
       "      <td>10.0</td>\n",
       "    </tr>\n",
       "    <tr>\n",
       "      <th>Queensbridge-Ravenswood-Long Island City</th>\n",
       "      <td>61830.770625</td>\n",
       "      <td>0.0</td>\n",
       "    </tr>\n",
       "    <tr>\n",
       "      <th>SoHo-TriBeCa-Civic Center-Little Italy</th>\n",
       "      <td>37214.024000</td>\n",
       "      <td>0.0</td>\n",
       "    </tr>\n",
       "    <tr>\n",
       "      <th>Springfield Gardens South-Brookville</th>\n",
       "      <td>17757.662000</td>\n",
       "      <td>0.0</td>\n",
       "    </tr>\n",
       "    <tr>\n",
       "      <th>Steinway</th>\n",
       "      <td>11227.155714</td>\n",
       "      <td>20.0</td>\n",
       "    </tr>\n",
       "    <tr>\n",
       "      <th>Sunset Park West</th>\n",
       "      <td>14316.976875</td>\n",
       "      <td>0.0</td>\n",
       "    </tr>\n",
       "    <tr>\n",
       "      <th>park-cemetery-etc-Brooklyn</th>\n",
       "      <td>14327.419333</td>\n",
       "      <td>0.0</td>\n",
       "    </tr>\n",
       "  </tbody>\n",
       "</table>\n",
       "</div>"
      ],
      "text/plain": [
       "                                                  Average Total Savings  \\\n",
       "NTA                                                                       \n",
       "Battery Park City-Lower Manhattan                         469890.796667   \n",
       "Bushwick South                                             26140.455000   \n",
       "Carroll Gardens-Columbia Street-Red Hook                   24337.390000   \n",
       "College Point                                              17159.372857   \n",
       "Crown Heights North                                         4036.298889   \n",
       "DUMBO-Vinegar Hill-Downtown Brooklyn-Boerum Hill           59950.340000   \n",
       "East New York                                              48433.093333   \n",
       "East Williamsburg                                          13990.626364   \n",
       "Greenpoint                                                  9753.649286   \n",
       "Hunters Point-Sunnyside-West Maspeth                       23931.398933   \n",
       "Hunts Point                                                39246.016154   \n",
       "Manhattanville                                              2760.888889   \n",
       "Maspeth                                                     6658.283333   \n",
       "Mott Haven-Port Morris                                     17843.937857   \n",
       "Queensbridge-Ravenswood-Long Island City                   61830.770625   \n",
       "SoHo-TriBeCa-Civic Center-Little Italy                     37214.024000   \n",
       "Springfield Gardens South-Brookville                       17757.662000   \n",
       "Steinway                                                   11227.155714   \n",
       "Sunset Park West                                           14316.976875   \n",
       "park-cemetery-etc-Brooklyn                                 14327.419333   \n",
       "\n",
       "                                                  Total Job Created  \n",
       "NTA                                                                  \n",
       "Battery Park City-Lower Manhattan                               0.0  \n",
       "Bushwick South                                                 10.0  \n",
       "Carroll Gardens-Columbia Street-Red Hook                        0.0  \n",
       "College Point                                                   2.0  \n",
       "Crown Heights North                                             0.0  \n",
       "DUMBO-Vinegar Hill-Downtown Brooklyn-Boerum Hill                0.0  \n",
       "East New York                                                  15.0  \n",
       "East Williamsburg                                               0.0  \n",
       "Greenpoint                                                      0.0  \n",
       "Hunters Point-Sunnyside-West Maspeth                            0.0  \n",
       "Hunts Point                                                    12.0  \n",
       "Manhattanville                                                  0.0  \n",
       "Maspeth                                                        10.0  \n",
       "Mott Haven-Port Morris                                         10.0  \n",
       "Queensbridge-Ravenswood-Long Island City                        0.0  \n",
       "SoHo-TriBeCa-Civic Center-Little Italy                          0.0  \n",
       "Springfield Gardens South-Brookville                            0.0  \n",
       "Steinway                                                       20.0  \n",
       "Sunset Park West                                                0.0  \n",
       "park-cemetery-etc-Brooklyn                                      0.0  "
      ]
     },
     "execution_count": 19,
     "metadata": {},
     "output_type": "execute_result"
    }
   ],
   "source": [
    "# Q4\n",
    "nta = df.NTA.value_counts(ascending=True).loc[lambda x: x>=5].index\n",
    "# print(df[df.NTA.isin(nta)].groupby(['NTA'])['Total Savings'].mean())\n",
    "# print(df[df.NTA.isin(nta)].groupby(['NTA'])['Job created'].sum())\n",
    "\n",
    "result = pd.DataFrame([df[df.NTA.isin(nta)].groupby(['NTA'])['Total Savings'].mean(), \n",
    "                       df[df.NTA.isin(nta)].groupby(['NTA'])['Job created'].sum()])\n",
    "\n",
    "result = result.T\n",
    "result.columns= ['Average Total Savings', 'Total Job Created']\n",
    "print(\"The average total savings and the total jobs created\")\n",
    "result\n"
   ]
  },
  {
   "cell_type": "code",
   "execution_count": 6,
   "id": "f82c9b38-3a71-4c77-b3eb-942ca47aba1b",
   "metadata": {},
   "outputs": [],
   "source": [
    "# Q5\n",
    "result.to_csv(\"day4.csv\")"
   ]
  },
  {
   "cell_type": "code",
   "execution_count": null,
   "id": "df57ef7e-af70-450a-8784-7fc5d1809422",
   "metadata": {},
   "outputs": [],
   "source": []
  },
  {
   "cell_type": "code",
   "execution_count": null,
   "id": "f8fb9690-546c-4509-aaae-eabc5ccb93de",
   "metadata": {},
   "outputs": [],
   "source": []
  }
 ],
 "metadata": {
  "kernelspec": {
   "display_name": "Python 3",
   "language": "python",
   "name": "python3"
  },
  "language_info": {
   "codemirror_mode": {
    "name": "ipython",
    "version": 3
   },
   "file_extension": ".py",
   "mimetype": "text/x-python",
   "name": "python",
   "nbconvert_exporter": "python",
   "pygments_lexer": "ipython3",
   "version": "3.8.8"
  }
 },
 "nbformat": 4,
 "nbformat_minor": 5
}
